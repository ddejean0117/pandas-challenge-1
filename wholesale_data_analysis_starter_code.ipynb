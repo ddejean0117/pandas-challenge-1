{
 "cells": [
  {
   "cell_type": "markdown",
   "id": "dc0318d6",
   "metadata": {},
   "source": [
    "## Part 1: Explore the Data\n",
    "\n",
    "Import the data and use Pandas to learn more about the dataset."
   ]
  },
  {
   "cell_type": "code",
   "execution_count": 56,
   "id": "e076f57f",
   "metadata": {},
   "outputs": [
    {
     "data": {
      "text/html": [
       "<div>\n",
       "<style scoped>\n",
       "    .dataframe tbody tr th:only-of-type {\n",
       "        vertical-align: middle;\n",
       "    }\n",
       "\n",
       "    .dataframe tbody tr th {\n",
       "        vertical-align: top;\n",
       "    }\n",
       "\n",
       "    .dataframe thead th {\n",
       "        text-align: right;\n",
       "    }\n",
       "</style>\n",
       "<table border=\"1\" class=\"dataframe\">\n",
       "  <thead>\n",
       "    <tr style=\"text-align: right;\">\n",
       "      <th></th>\n",
       "      <th>first</th>\n",
       "      <th>last</th>\n",
       "      <th>job</th>\n",
       "      <th>phone</th>\n",
       "      <th>email</th>\n",
       "      <th>client_id</th>\n",
       "      <th>order_id</th>\n",
       "      <th>order_date</th>\n",
       "      <th>order_week</th>\n",
       "      <th>order_year</th>\n",
       "      <th>item_id</th>\n",
       "      <th>category</th>\n",
       "      <th>subcategory</th>\n",
       "      <th>unit_price</th>\n",
       "      <th>unit_cost</th>\n",
       "      <th>unit_weight</th>\n",
       "      <th>qty</th>\n",
       "      <th>line_number</th>\n",
       "    </tr>\n",
       "  </thead>\n",
       "  <tbody>\n",
       "    <tr>\n",
       "      <th>0</th>\n",
       "      <td>Donald</td>\n",
       "      <td>Harding</td>\n",
       "      <td>Immunologist</td>\n",
       "      <td>793-904-7725x39308</td>\n",
       "      <td>harding.donald.7185@sullivan.com</td>\n",
       "      <td>58515</td>\n",
       "      <td>8953482</td>\n",
       "      <td>2023-04-28</td>\n",
       "      <td>17</td>\n",
       "      <td>2023</td>\n",
       "      <td>EUD29711-63-6U</td>\n",
       "      <td>decor</td>\n",
       "      <td>wall art</td>\n",
       "      <td>1096.80</td>\n",
       "      <td>762.71</td>\n",
       "      <td>7.50</td>\n",
       "      <td>105</td>\n",
       "      <td>1</td>\n",
       "    </tr>\n",
       "    <tr>\n",
       "      <th>1</th>\n",
       "      <td>Tiffany</td>\n",
       "      <td>Myers</td>\n",
       "      <td>Music therapist</td>\n",
       "      <td>201.442.4543x942</td>\n",
       "      <td>myers.t.6537@ferguson-johnson.net</td>\n",
       "      <td>37609</td>\n",
       "      <td>8069089</td>\n",
       "      <td>2023-05-19</td>\n",
       "      <td>20</td>\n",
       "      <td>2023</td>\n",
       "      <td>XDA18116-89-4A</td>\n",
       "      <td>consumables</td>\n",
       "      <td>pens</td>\n",
       "      <td>24.95</td>\n",
       "      <td>15.09</td>\n",
       "      <td>1.49</td>\n",
       "      <td>21</td>\n",
       "      <td>0</td>\n",
       "    </tr>\n",
       "    <tr>\n",
       "      <th>2</th>\n",
       "      <td>Shannon</td>\n",
       "      <td>Watson</td>\n",
       "      <td>Immunologist</td>\n",
       "      <td>687.737.9424x8503</td>\n",
       "      <td>swatson8146@payne.net</td>\n",
       "      <td>57113</td>\n",
       "      <td>1902144</td>\n",
       "      <td>2023-01-29</td>\n",
       "      <td>4</td>\n",
       "      <td>2023</td>\n",
       "      <td>ABE59463-05-7E</td>\n",
       "      <td>software</td>\n",
       "      <td>project management</td>\n",
       "      <td>13.52</td>\n",
       "      <td>7.86</td>\n",
       "      <td>1.68</td>\n",
       "      <td>39</td>\n",
       "      <td>6</td>\n",
       "    </tr>\n",
       "    <tr>\n",
       "      <th>3</th>\n",
       "      <td>Nathan</td>\n",
       "      <td>Baker</td>\n",
       "      <td>Accounting technician</td>\n",
       "      <td>827-788-8123x012</td>\n",
       "      <td>bakernathan@benson.com</td>\n",
       "      <td>46554</td>\n",
       "      <td>9031802</td>\n",
       "      <td>2023-04-25</td>\n",
       "      <td>17</td>\n",
       "      <td>2023</td>\n",
       "      <td>ZMM00836-65-0C</td>\n",
       "      <td>consumables</td>\n",
       "      <td>pens</td>\n",
       "      <td>36.42</td>\n",
       "      <td>24.85</td>\n",
       "      <td>1.23</td>\n",
       "      <td>29</td>\n",
       "      <td>3</td>\n",
       "    </tr>\n",
       "    <tr>\n",
       "      <th>4</th>\n",
       "      <td>Christina</td>\n",
       "      <td>Schwartz</td>\n",
       "      <td>Chiropractor</td>\n",
       "      <td>265-829-3643</td>\n",
       "      <td>christinaschwartz9252@mcconnell.com</td>\n",
       "      <td>92089</td>\n",
       "      <td>1322274</td>\n",
       "      <td>2023-05-28</td>\n",
       "      <td>21</td>\n",
       "      <td>2023</td>\n",
       "      <td>BZX55559-12-3X</td>\n",
       "      <td>consumables</td>\n",
       "      <td>misc</td>\n",
       "      <td>195.10</td>\n",
       "      <td>108.17</td>\n",
       "      <td>46.43</td>\n",
       "      <td>20</td>\n",
       "      <td>1</td>\n",
       "    </tr>\n",
       "  </tbody>\n",
       "</table>\n",
       "</div>"
      ],
      "text/plain": [
       "       first      last                    job               phone  \\\n",
       "0     Donald   Harding           Immunologist  793-904-7725x39308   \n",
       "1    Tiffany     Myers        Music therapist    201.442.4543x942   \n",
       "2    Shannon    Watson           Immunologist   687.737.9424x8503   \n",
       "3     Nathan     Baker  Accounting technician    827-788-8123x012   \n",
       "4  Christina  Schwartz           Chiropractor        265-829-3643   \n",
       "\n",
       "                                 email  client_id  order_id  order_date  \\\n",
       "0     harding.donald.7185@sullivan.com      58515   8953482  2023-04-28   \n",
       "1    myers.t.6537@ferguson-johnson.net      37609   8069089  2023-05-19   \n",
       "2                swatson8146@payne.net      57113   1902144  2023-01-29   \n",
       "3               bakernathan@benson.com      46554   9031802  2023-04-25   \n",
       "4  christinaschwartz9252@mcconnell.com      92089   1322274  2023-05-28   \n",
       "\n",
       "   order_week  order_year         item_id     category         subcategory  \\\n",
       "0          17        2023  EUD29711-63-6U        decor            wall art   \n",
       "1          20        2023  XDA18116-89-4A  consumables                pens   \n",
       "2           4        2023  ABE59463-05-7E     software  project management   \n",
       "3          17        2023  ZMM00836-65-0C  consumables                pens   \n",
       "4          21        2023  BZX55559-12-3X  consumables                misc   \n",
       "\n",
       "   unit_price  unit_cost  unit_weight  qty  line_number  \n",
       "0     1096.80     762.71         7.50  105            1  \n",
       "1       24.95      15.09         1.49   21            0  \n",
       "2       13.52       7.86         1.68   39            6  \n",
       "3       36.42      24.85         1.23   29            3  \n",
       "4      195.10     108.17        46.43   20            1  "
      ]
     },
     "execution_count": 56,
     "metadata": {},
     "output_type": "execute_result"
    }
   ],
   "source": [
    "import pandas as pd\n",
    "\n",
    "df = pd.read_csv('Resources/client_dataset.csv')\n",
    "df.head()"
   ]
  },
  {
   "cell_type": "code",
   "execution_count": 57,
   "id": "71b9bbd2",
   "metadata": {},
   "outputs": [
    {
     "data": {
      "text/plain": [
       "Index(['first', 'last', 'job', 'phone', 'email', 'client_id', 'order_id',\n",
       "       'order_date', 'order_week', 'order_year', 'item_id', 'category',\n",
       "       'subcategory', 'unit_price', 'unit_cost', 'unit_weight', 'qty',\n",
       "       'line_number'],\n",
       "      dtype='object')"
      ]
     },
     "execution_count": 57,
     "metadata": {},
     "output_type": "execute_result"
    }
   ],
   "source": [
    "# View the column names in the data\n",
    "df.columns"
   ]
  },
  {
   "cell_type": "code",
   "execution_count": 58,
   "id": "bc0f4172",
   "metadata": {},
   "outputs": [
    {
     "data": {
      "text/html": [
       "<div>\n",
       "<style scoped>\n",
       "    .dataframe tbody tr th:only-of-type {\n",
       "        vertical-align: middle;\n",
       "    }\n",
       "\n",
       "    .dataframe tbody tr th {\n",
       "        vertical-align: top;\n",
       "    }\n",
       "\n",
       "    .dataframe thead th {\n",
       "        text-align: right;\n",
       "    }\n",
       "</style>\n",
       "<table border=\"1\" class=\"dataframe\">\n",
       "  <thead>\n",
       "    <tr style=\"text-align: right;\">\n",
       "      <th></th>\n",
       "      <th>client_id</th>\n",
       "      <th>order_id</th>\n",
       "      <th>order_week</th>\n",
       "      <th>order_year</th>\n",
       "      <th>unit_price</th>\n",
       "      <th>unit_cost</th>\n",
       "      <th>unit_weight</th>\n",
       "      <th>qty</th>\n",
       "      <th>line_number</th>\n",
       "    </tr>\n",
       "  </thead>\n",
       "  <tbody>\n",
       "    <tr>\n",
       "      <th>count</th>\n",
       "      <td>54639.000000</td>\n",
       "      <td>5.463900e+04</td>\n",
       "      <td>54639.000000</td>\n",
       "      <td>54639.000000</td>\n",
       "      <td>54639.000000</td>\n",
       "      <td>54639.000000</td>\n",
       "      <td>54639.000000</td>\n",
       "      <td>5.463900e+04</td>\n",
       "      <td>54639.000000</td>\n",
       "    </tr>\n",
       "    <tr>\n",
       "      <th>mean</th>\n",
       "      <td>54837.869416</td>\n",
       "      <td>5.470190e+06</td>\n",
       "      <td>11.359139</td>\n",
       "      <td>2022.993064</td>\n",
       "      <td>136.267207</td>\n",
       "      <td>99.446073</td>\n",
       "      <td>5.004116</td>\n",
       "      <td>5.702646e+02</td>\n",
       "      <td>2.979667</td>\n",
       "    </tr>\n",
       "    <tr>\n",
       "      <th>std</th>\n",
       "      <td>25487.438231</td>\n",
       "      <td>2.599807e+06</td>\n",
       "      <td>7.023499</td>\n",
       "      <td>0.082997</td>\n",
       "      <td>183.873135</td>\n",
       "      <td>133.164267</td>\n",
       "      <td>5.326599</td>\n",
       "      <td>1.879552e+04</td>\n",
       "      <td>2.436320</td>\n",
       "    </tr>\n",
       "    <tr>\n",
       "      <th>min</th>\n",
       "      <td>10033.000000</td>\n",
       "      <td>1.000886e+06</td>\n",
       "      <td>1.000000</td>\n",
       "      <td>2022.000000</td>\n",
       "      <td>0.010000</td>\n",
       "      <td>0.010000</td>\n",
       "      <td>0.000000</td>\n",
       "      <td>0.000000e+00</td>\n",
       "      <td>0.000000</td>\n",
       "    </tr>\n",
       "    <tr>\n",
       "      <th>25%</th>\n",
       "      <td>33593.000000</td>\n",
       "      <td>3.196372e+06</td>\n",
       "      <td>6.000000</td>\n",
       "      <td>2023.000000</td>\n",
       "      <td>20.800000</td>\n",
       "      <td>14.840000</td>\n",
       "      <td>1.450000</td>\n",
       "      <td>3.200000e+01</td>\n",
       "      <td>1.000000</td>\n",
       "    </tr>\n",
       "    <tr>\n",
       "      <th>50%</th>\n",
       "      <td>53305.000000</td>\n",
       "      <td>5.496966e+06</td>\n",
       "      <td>11.000000</td>\n",
       "      <td>2023.000000</td>\n",
       "      <td>68.310000</td>\n",
       "      <td>49.890000</td>\n",
       "      <td>3.240000</td>\n",
       "      <td>6.800000e+01</td>\n",
       "      <td>3.000000</td>\n",
       "    </tr>\n",
       "    <tr>\n",
       "      <th>75%</th>\n",
       "      <td>78498.000000</td>\n",
       "      <td>7.733869e+06</td>\n",
       "      <td>17.000000</td>\n",
       "      <td>2023.000000</td>\n",
       "      <td>173.160000</td>\n",
       "      <td>125.570000</td>\n",
       "      <td>6.890000</td>\n",
       "      <td>1.700000e+02</td>\n",
       "      <td>5.000000</td>\n",
       "    </tr>\n",
       "    <tr>\n",
       "      <th>max</th>\n",
       "      <td>99984.000000</td>\n",
       "      <td>9.998480e+06</td>\n",
       "      <td>52.000000</td>\n",
       "      <td>2023.000000</td>\n",
       "      <td>1396.230000</td>\n",
       "      <td>846.270000</td>\n",
       "      <td>46.430000</td>\n",
       "      <td>3.958244e+06</td>\n",
       "      <td>9.000000</td>\n",
       "    </tr>\n",
       "  </tbody>\n",
       "</table>\n",
       "</div>"
      ],
      "text/plain": [
       "          client_id      order_id    order_week    order_year    unit_price  \\\n",
       "count  54639.000000  5.463900e+04  54639.000000  54639.000000  54639.000000   \n",
       "mean   54837.869416  5.470190e+06     11.359139   2022.993064    136.267207   \n",
       "std    25487.438231  2.599807e+06      7.023499      0.082997    183.873135   \n",
       "min    10033.000000  1.000886e+06      1.000000   2022.000000      0.010000   \n",
       "25%    33593.000000  3.196372e+06      6.000000   2023.000000     20.800000   \n",
       "50%    53305.000000  5.496966e+06     11.000000   2023.000000     68.310000   \n",
       "75%    78498.000000  7.733869e+06     17.000000   2023.000000    173.160000   \n",
       "max    99984.000000  9.998480e+06     52.000000   2023.000000   1396.230000   \n",
       "\n",
       "          unit_cost   unit_weight           qty   line_number  \n",
       "count  54639.000000  54639.000000  5.463900e+04  54639.000000  \n",
       "mean      99.446073      5.004116  5.702646e+02      2.979667  \n",
       "std      133.164267      5.326599  1.879552e+04      2.436320  \n",
       "min        0.010000      0.000000  0.000000e+00      0.000000  \n",
       "25%       14.840000      1.450000  3.200000e+01      1.000000  \n",
       "50%       49.890000      3.240000  6.800000e+01      3.000000  \n",
       "75%      125.570000      6.890000  1.700000e+02      5.000000  \n",
       "max      846.270000     46.430000  3.958244e+06      9.000000  "
      ]
     },
     "execution_count": 58,
     "metadata": {},
     "output_type": "execute_result"
    }
   ],
   "source": [
    "# Use the describe function to gather some basic statistics\n",
    "df.describe()"
   ]
  },
  {
   "cell_type": "code",
   "execution_count": 59,
   "id": "b24b53cc",
   "metadata": {},
   "outputs": [
    {
     "name": "stdout",
     "output_type": "stream",
     "text": [
      "first           object\n",
      "last            object\n",
      "job             object\n",
      "phone           object\n",
      "email           object\n",
      "client_id        int64\n",
      "order_id         int64\n",
      "order_date      object\n",
      "order_week       int64\n",
      "order_year       int64\n",
      "item_id         object\n",
      "category        object\n",
      "subcategory     object\n",
      "unit_price     float64\n",
      "unit_cost      float64\n",
      "unit_weight    float64\n",
      "qty              int64\n",
      "line_number      int64\n",
      "dtype: object\n",
      "****************************************\n",
      "first          54639\n",
      "last           54639\n",
      "job            54639\n",
      "phone          54639\n",
      "email          54639\n",
      "client_id      54639\n",
      "order_id       54639\n",
      "order_date     54639\n",
      "order_week     54639\n",
      "order_year     54639\n",
      "item_id        54639\n",
      "category       54639\n",
      "subcategory    54639\n",
      "unit_price     54639\n",
      "unit_cost      54639\n",
      "unit_weight    54639\n",
      "qty            54639\n",
      "line_number    54639\n",
      "dtype: int64\n"
     ]
    }
   ],
   "source": [
    "# Use this space to do any additional research\n",
    "# and familiarize yourself with the data.\n",
    "\n",
    "print(df.dtypes)\n",
    "print(\"*\"*40)\n",
    "print(df.count())"
   ]
  },
  {
   "cell_type": "code",
   "execution_count": 60,
   "id": "551cb358",
   "metadata": {},
   "outputs": [
    {
     "name": "stdout",
     "output_type": "stream",
     "text": [
      "category\n",
      "consumables    23538\n",
      "furniture      11915\n",
      "software        8400\n",
      "Name: count, dtype: int64\n"
     ]
    }
   ],
   "source": [
    "# What three item categories had the most entries?\n",
    "top_categories = df[\"category\"].value_counts().head(3)\n",
    "print(top_categories)"
   ]
  },
  {
   "cell_type": "code",
   "execution_count": 61,
   "id": "5f54e2cf",
   "metadata": {},
   "outputs": [
    {
     "name": "stdout",
     "output_type": "stream",
     "text": [
      "The most common category is: consumables.\n",
      "The most common subcategory of the most common category is: bathroom supplies.\n"
     ]
    }
   ],
   "source": [
    "# For the category with the most entries, which subcategory had the most entries?\n",
    "\n",
    "# Step 1: Find the category with the most entries\n",
    "most_common_category = df['category'].value_counts().idxmax()\n",
    "print(f\"The most common category is: {most_common_category}.\")\n",
    "\n",
    "# Step 2: Filter the DataFrame to include only the most common category\n",
    "filtered_df = df[df['category'] == most_common_category]\n",
    "# print(filtered_df.head())\n",
    "\n",
    "# Step 3: Identify the subcategory with the highest count\n",
    "most_common_subcategory = filtered_df['subcategory'].value_counts().idxmax()\n",
    "print(f\"The most common subcategory of the most common category is: {most_common_subcategory}.\")"
   ]
  },
  {
   "cell_type": "code",
   "execution_count": 62,
   "id": "2db94379",
   "metadata": {},
   "outputs": [
    {
     "name": "stdout",
     "output_type": "stream",
     "text": [
      "The five clients with the most entries are: \n",
      "           count\n",
      "client_id       \n",
      "33615        220\n",
      "66037        211\n",
      "46820        209\n",
      "38378        207\n",
      "24741        207\n"
     ]
    }
   ],
   "source": [
    "# Which five clients had the most entries in the data?\n",
    "client_id_counts = pd.DataFrame(df['client_id'].value_counts().head(5))\n",
    "print(f\"The five clients with the most entries are: \\n{client_id_counts}\")"
   ]
  },
  {
   "cell_type": "code",
   "execution_count": 63,
   "id": "a6635601",
   "metadata": {},
   "outputs": [
    {
     "name": "stdout",
     "output_type": "stream",
     "text": [
      "Here is a list of the client IDs for the top 5 clients: \n",
      "[33615, 66037, 46820, 38378, 24741]\n"
     ]
    }
   ],
   "source": [
    "# Store the client ids of those top 5 clients in a list.\n",
    "top_five_clients = client_id_counts['count'].nlargest(5).index.tolist()\n",
    "print(f\"Here is a list of the client IDs for the top 5 clients: \\n{top_five_clients}\")  "
   ]
  },
  {
   "cell_type": "code",
   "execution_count": 64,
   "id": "c88b8a3e",
   "metadata": {},
   "outputs": [
    {
     "name": "stdout",
     "output_type": "stream",
     "text": [
      "The total units ordered from the top client is: 64313\n"
     ]
    }
   ],
   "source": [
    "# How many total units (the qty column) did the client with the most entries order order?\n",
    "top_client_total_units = sum(df.loc[df['client_id'] == top_five_clients[0], 'qty'])\n",
    "print(f\"The total units ordered from the top client is: {top_client_total_units}\")\n",
    "\n",
    "#double check\n",
    "# check_list = df.loc[df['client_id'] == top_five_clients[1], 'qty']\n",
    "# check_list.mean()\n",
    "# filtered_client_df = df[df['client_id'] == top_five_clients[1]]\n",
    "# print(filtered_client_df)\n",
    "# print(df['client_id'] == top_five_clients[1])"
   ]
  },
  {
   "cell_type": "markdown",
   "id": "257fcd7d",
   "metadata": {},
   "source": [
    "## Part 2: Transform the Data\n",
    "Do we know that this client spent the more money than client 66037? If not, how would we find out? Transform the data using the steps below to prepare it for analysis."
   ]
  },
  {
   "cell_type": "code",
   "execution_count": 65,
   "id": "0c25c4a8",
   "metadata": {},
   "outputs": [
    {
     "data": {
      "text/plain": [
       "0    115164.00\n",
       "1       523.95\n",
       "2       527.28\n",
       "3      1056.18\n",
       "4      3902.00\n",
       "Name: subtotal, dtype: float64"
      ]
     },
     "execution_count": 65,
     "metadata": {},
     "output_type": "execute_result"
    }
   ],
   "source": [
    "# Create a column that calculates the subtotal for each line using the unit_price and the qty\n",
    "df['subtotal'] = df['unit_price'] * df['qty']\n",
    "df['subtotal'].head()"
   ]
  },
  {
   "cell_type": "code",
   "execution_count": 66,
   "id": "ac9dafc8",
   "metadata": {},
   "outputs": [
    {
     "data": {
      "text/plain": [
       "0    5512.50\n",
       "1     312.90\n",
       "2     458.64\n",
       "3     356.70\n",
       "4    6500.20\n",
       "Name: shipping_price, dtype: float64"
      ]
     },
     "execution_count": 66,
     "metadata": {},
     "output_type": "execute_result"
    }
   ],
   "source": [
    "# Create a column for shipping price.\n",
    "# Assume a shipping price of $7 per pound for orders over 50 pounds and $10 per pound for items 50 pounds or under.\n",
    "# Define a function\n",
    "def per_pound_price(weight):\n",
    "    if weight > 50:\n",
    "        return 7\n",
    "    return 10\n",
    "\n",
    "# \"Apply\" the function to the amount column\n",
    "df['order_weight'] = df['unit_weight'] * df['qty']\n",
    "df['shipping_price'] = df['unit_weight'] * df['order_weight'].apply(per_pound_price) * df['qty']\n",
    "df['shipping_price'].head()"
   ]
  },
  {
   "cell_type": "code",
   "execution_count": 67,
   "id": "77f42c67",
   "metadata": {},
   "outputs": [
    {
     "data": {
      "text/plain": [
       "0        131839.08\n",
       "1           914.26\n",
       "2          1077.12\n",
       "3          1543.57\n",
       "4         11364.40\n",
       "           ...    \n",
       "54634      3564.87\n",
       "54635     14813.24\n",
       "54636     49184.90\n",
       "54637     15632.71\n",
       "54638     19711.43\n",
       "Name: total_price, Length: 54639, dtype: float64"
      ]
     },
     "execution_count": 67,
     "metadata": {},
     "output_type": "execute_result"
    }
   ],
   "source": [
    "# Create a column for the total price using the subtotal and the shipping price along with a sales tax of 9.25%\n",
    "df['total_price'] = round(1.0925 * (df['subtotal'] + df['shipping_price']),2)\n",
    "df['total_price']"
   ]
  },
  {
   "cell_type": "code",
   "execution_count": 68,
   "id": "c82ad275",
   "metadata": {},
   "outputs": [
    {
     "data": {
      "text/plain": [
       "0        85597.05\n",
       "1          629.79\n",
       "2          765.18\n",
       "3         1077.35\n",
       "4         8663.60\n",
       "           ...   \n",
       "54634     2222.55\n",
       "54635    12095.92\n",
       "54636    41054.25\n",
       "54637    14280.00\n",
       "54638    16599.10\n",
       "Name: total_cost, Length: 54639, dtype: float64"
      ]
     },
     "execution_count": 68,
     "metadata": {},
     "output_type": "execute_result"
    }
   ],
   "source": [
    "# Create a column for the cost of each line using unit cost, qty, and\n",
    "# shipping price (assume the shipping cost is exactly what is charged to the client).\n",
    "\n",
    "df['total_cost'] = (df['unit_cost'] * df['qty']) + df['shipping_price']\n",
    "df['total_cost']"
   ]
  },
  {
   "cell_type": "code",
   "execution_count": 69,
   "id": "e2389018",
   "metadata": {},
   "outputs": [
    {
     "data": {
      "text/plain": [
       "0        46242.03\n",
       "1          284.47\n",
       "2          311.94\n",
       "3          466.22\n",
       "4         2700.80\n",
       "           ...   \n",
       "54634     1342.32\n",
       "54635     2717.32\n",
       "54636     8130.65\n",
       "54637     1352.71\n",
       "54638     3112.33\n",
       "Name: profit, Length: 54639, dtype: float64"
      ]
     },
     "execution_count": 69,
     "metadata": {},
     "output_type": "execute_result"
    }
   ],
   "source": [
    "# Create a column for the profit of each line using line cost and line price\n",
    "df['profit'] = df['total_price'] - df['total_cost']\n",
    "df['profit']"
   ]
  },
  {
   "cell_type": "markdown",
   "id": "ef6f62b1",
   "metadata": {},
   "source": [
    "## Part 3: Confirm your work\n",
    "You have email receipts showing that the total prices for 3 orders. Confirm that your calculations match the receipts. Remember, each order has multiple lines.\n",
    "\n",
    "Order ID 2742071 had a total price of \\$152,811.89\n",
    "\n",
    "Order ID 2173913 had a total price of \\$162,388.71\n",
    "\n",
    "Order ID 6128929 had a total price of \\$923,441.25\n"
   ]
  },
  {
   "cell_type": "code",
   "execution_count": 70,
   "id": "c0e5d68e",
   "metadata": {},
   "outputs": [
    {
     "name": "stdout",
     "output_type": "stream",
     "text": [
      "The calculation for order {'order': 2742071, 'price': 152811.89} is confirmed.\n",
      "The calculation for order {'order': 2173913, 'price': 162388.71} is confirmed.\n",
      "The calculation for order {'order': 6128929, 'price': 923441.25} is confirmed.\n"
     ]
    }
   ],
   "source": [
    "# Check your work using the totals above\n",
    "check_orders = [\n",
    "    {'order': 2742071, 'price': 152811.89},\n",
    "    {'order': 2173913, 'price': 162388.71},\n",
    "    {'order':6128929, 'price': 923441.25}\n",
    "                  ]\n",
    "\n",
    "for i in range(len(check_orders)):\n",
    "    total = round(sum(df.loc[df['order_id'] == check_orders[i]['order'], 'total_price']), 2)\n",
    "    if total == check_orders[i]['price']:\n",
    "        print(f\"The calculation for order {check_orders[i]} is confirmed.\")\n",
    "    else:\n",
    "        print(f\"Sorry, you have errors on order {check_orders[i]}.\")"
   ]
  },
  {
   "cell_type": "markdown",
   "id": "b94d58ab",
   "metadata": {},
   "source": [
    "## Part 4: Summarize and Analyze\n",
    "Use the new columns with confirmed values to find the following information."
   ]
  },
  {
   "cell_type": "code",
   "execution_count": 71,
   "id": "7c005f34",
   "metadata": {},
   "outputs": [
    {
     "name": "stdout",
     "output_type": "stream",
     "text": [
      "[8377308.52, 10259514.79, 9743794.36, 12906550.87, 82268892.02]\n"
     ]
    }
   ],
   "source": [
    "# How much did each of the top 5 clients by quantity spend? Check your work from Part 1 for client ids.\n",
    "top_client_total = []\n",
    "for j in range(len(top_five_clients)):\n",
    "    client_total = round(sum(df.loc[df['client_id'] == top_five_clients[j], 'total_price']),2)\n",
    "    top_client_total.append(client_total)\n",
    "print(top_client_total)"
   ]
  },
  {
   "cell_type": "code",
   "execution_count": 72,
   "id": "81b6e4d2",
   "metadata": {},
   "outputs": [
    {
     "name": "stdout",
     "output_type": "stream",
     "text": [
      "   client_id  total_units_purchased  total_shipping_price  total_revenue  \\\n",
      "0      33615                  64313            1828984.89     8377308.52   \n",
      "1      66037                  43018            1395151.85    10259514.79   \n",
      "2      46820                  75768            1601448.84     9743794.36   \n",
      "3      38378                  73667            3429455.40    12906550.87   \n",
      "4      24741                 239862            5126448.37    82268892.02   \n",
      "\n",
      "   total_profit  \n",
      "0    2201994.61  \n",
      "1    3255031.81  \n",
      "2    2736602.72  \n",
      "3    3271829.89  \n",
      "4   36579992.31  \n"
     ]
    }
   ],
   "source": [
    "# Create a summary DataFrame showing the totals for the for the top 5 clients with the following information:\n",
    "# total units purchased, total shipping price, total revenue, and total profit. \n",
    "total_units_purchased = []\n",
    "total_shipping_price = []\n",
    "total_revenue = []\n",
    "total_profit = []\n",
    "\n",
    "for k in range(len(top_five_clients)):\n",
    "    total_units_purchased.append(sum(df.loc[df['client_id'] == top_five_clients[k], 'qty']))\n",
    "    total_shipping_price.append(round(sum(df.loc[df['client_id'] == top_five_clients[k], 'shipping_price']),2))\n",
    "    total_revenue.append(round(sum(df.loc[df['client_id'] == top_five_clients[k], 'total_price']),2))\n",
    "    total_profit.append(round(sum(df.loc[df['client_id'] == top_five_clients[k], 'profit']),2))\n",
    "\n",
    "top_five_client_info_df = pd.DataFrame({\n",
    "        'client_id': top_five_clients,\n",
    "        'total_units_purchased': total_units_purchased,\n",
    "        'total_shipping_price': total_shipping_price,\n",
    "        'total_revenue': total_revenue,\n",
    "        'total_profit': total_profit\n",
    "})\n",
    "\n",
    "print(top_five_client_info_df)"
   ]
  },
  {
   "cell_type": "code",
   "execution_count": 73,
   "id": "7be02867",
   "metadata": {},
   "outputs": [
    {
     "name": "stdout",
     "output_type": "stream",
     "text": [
      "   client_id  total_units_purchased Total Shipping Price (in $M)  \\\n",
      "0      33615                  64313                      $1.83 M   \n",
      "1      66037                  43018                      $1.40 M   \n",
      "2      46820                  75768                      $1.60 M   \n",
      "3      38378                  73667                      $3.43 M   \n",
      "4      24741                 239862                      $5.13 M   \n",
      "\n",
      "  Total Revenue (in $M) Total Profit (in $M)  \n",
      "0               $8.38 M              $2.20 M  \n",
      "1              $10.26 M              $3.26 M  \n",
      "2               $9.74 M              $2.74 M  \n",
      "3              $12.91 M              $3.27 M  \n",
      "4              $82.27 M             $36.58 M  \n"
     ]
    }
   ],
   "source": [
    "# Format the data and rename the columns to names suitable for presentation.\n",
    "\n",
    "# Define the money columns. \n",
    "money_columns = ['total_shipping_price', 'total_revenue', 'total_profit']\n",
    "\n",
    "# Define a function that converts a dollar amount to millions.\n",
    "def millions_conversion(amount):\n",
    "    amount_in_millions = amount / 1000000\n",
    "    formatted_amount = \"${:.2f} M\".format(amount_in_millions)\n",
    "    return formatted_amount\n",
    "\n",
    "# Apply the currency_format_millions function to only the money columns. \n",
    "top_five_client_info_df[money_columns] = top_five_client_info_df[money_columns].apply(lambda x: x.apply(millions_conversion))\n",
    "\n",
    "# Rename the columns to reflect the change in the money format. \n",
    "top_five_client_info_df = top_five_client_info_df.rename(columns={'total_shipping_price': 'Total Shipping Price (in $M)', 'total_revenue': 'Total Revenue (in $M)', 'total_profit': 'Total Profit (in $M)'})\n",
    "print(top_five_client_info_df)"
   ]
  },
  {
   "cell_type": "code",
   "execution_count": 74,
   "id": "8ead0986",
   "metadata": {},
   "outputs": [
    {
     "data": {
      "text/html": [
       "<div>\n",
       "<style scoped>\n",
       "    .dataframe tbody tr th:only-of-type {\n",
       "        vertical-align: middle;\n",
       "    }\n",
       "\n",
       "    .dataframe tbody tr th {\n",
       "        vertical-align: top;\n",
       "    }\n",
       "\n",
       "    .dataframe thead th {\n",
       "        text-align: right;\n",
       "    }\n",
       "</style>\n",
       "<table border=\"1\" class=\"dataframe\">\n",
       "  <thead>\n",
       "    <tr style=\"text-align: right;\">\n",
       "      <th></th>\n",
       "      <th>client_id</th>\n",
       "      <th>total_units_purchased</th>\n",
       "      <th>Total Shipping Price (in $M)</th>\n",
       "      <th>Total Revenue (in $M)</th>\n",
       "      <th>Total Profit (in $M)</th>\n",
       "    </tr>\n",
       "  </thead>\n",
       "  <tbody>\n",
       "    <tr>\n",
       "      <th>4</th>\n",
       "      <td>24741</td>\n",
       "      <td>239862</td>\n",
       "      <td>$5.13 M</td>\n",
       "      <td>$82.27 M</td>\n",
       "      <td>$36.58 M</td>\n",
       "    </tr>\n",
       "    <tr>\n",
       "      <th>3</th>\n",
       "      <td>38378</td>\n",
       "      <td>73667</td>\n",
       "      <td>$3.43 M</td>\n",
       "      <td>$12.91 M</td>\n",
       "      <td>$3.27 M</td>\n",
       "    </tr>\n",
       "    <tr>\n",
       "      <th>1</th>\n",
       "      <td>66037</td>\n",
       "      <td>43018</td>\n",
       "      <td>$1.40 M</td>\n",
       "      <td>$10.26 M</td>\n",
       "      <td>$3.26 M</td>\n",
       "    </tr>\n",
       "    <tr>\n",
       "      <th>2</th>\n",
       "      <td>46820</td>\n",
       "      <td>75768</td>\n",
       "      <td>$1.60 M</td>\n",
       "      <td>$9.74 M</td>\n",
       "      <td>$2.74 M</td>\n",
       "    </tr>\n",
       "    <tr>\n",
       "      <th>0</th>\n",
       "      <td>33615</td>\n",
       "      <td>64313</td>\n",
       "      <td>$1.83 M</td>\n",
       "      <td>$8.38 M</td>\n",
       "      <td>$2.20 M</td>\n",
       "    </tr>\n",
       "  </tbody>\n",
       "</table>\n",
       "</div>"
      ],
      "text/plain": [
       "   client_id  total_units_purchased Total Shipping Price (in $M)  \\\n",
       "4      24741                 239862                      $5.13 M   \n",
       "3      38378                  73667                      $3.43 M   \n",
       "1      66037                  43018                      $1.40 M   \n",
       "2      46820                  75768                      $1.60 M   \n",
       "0      33615                  64313                      $1.83 M   \n",
       "\n",
       "  Total Revenue (in $M) Total Profit (in $M)  \n",
       "4              $82.27 M             $36.58 M  \n",
       "3              $12.91 M              $3.27 M  \n",
       "1              $10.26 M              $3.26 M  \n",
       "2               $9.74 M              $2.74 M  \n",
       "0               $8.38 M              $2.20 M  "
      ]
     },
     "execution_count": 74,
     "metadata": {},
     "output_type": "execute_result"
    }
   ],
   "source": [
    "# Sort the updated data by \"Total Profit (millions)\" form highest to lowest and assign the sort to a new DatFrame.\n",
    "top_five_client_info_df = top_five_client_info_df.sort_values(by='Total Profit (in $M)', ascending=False)\n",
    "top_five_client_info_df"
   ]
  },
  {
   "cell_type": "markdown",
   "id": "4e3cf7e2-a254-4b8b-94f0-27778ea5ed35",
   "metadata": {},
   "source": [
    "## In summary, the data in the .csv file was largely complete. I was able to apply shipping costs based on the order weight to come up with total price, cost and profit. The top client in units sold was different from the top client in total profit. "
   ]
  },
  {
   "cell_type": "code",
   "execution_count": null,
   "id": "b049b1e4-334a-49d1-a14f-a774e5b2c3e8",
   "metadata": {},
   "outputs": [],
   "source": []
  }
 ],
 "metadata": {
  "kernelspec": {
   "display_name": "Python 3 (ipykernel)",
   "language": "python",
   "name": "python3"
  },
  "language_info": {
   "codemirror_mode": {
    "name": "ipython",
    "version": 3
   },
   "file_extension": ".py",
   "mimetype": "text/x-python",
   "name": "python",
   "nbconvert_exporter": "python",
   "pygments_lexer": "ipython3",
   "version": "3.10.14"
  }
 },
 "nbformat": 4,
 "nbformat_minor": 5
}
